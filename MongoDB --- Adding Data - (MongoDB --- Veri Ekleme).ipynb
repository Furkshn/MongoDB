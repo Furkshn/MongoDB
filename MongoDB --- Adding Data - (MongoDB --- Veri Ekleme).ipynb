{
 "cells": [
  {
   "cell_type": "markdown",
   "metadata": {},
   "source": [
    "#\n",
    "# MongoDB --- Adding Data - (MongoDB --- Veri Ekleme)"
   ]
  },
  {
   "cell_type": "markdown",
   "metadata": {},
   "source": [
    "### -----------------------------------------------------------------------------------------------------------------\n",
    "\n",
    "\n",
    "### ! Daha iyi anlaşılabilmesi ve farklı dil bilen insanların rahatça okuyabilmesi için kodlar ve notlar hem İngilizce hem Türkçe dili ile yazılmıştır.\n",
    "\n",
    "#  \n",
    "\n",
    "### ! The codes and notes are written in both English and Turkish languages so that they can be better understood and read easily by people who speak different languages.\n",
    "\n",
    "### -----------------------------------------------------------------------------------------------------------------"
   ]
  },
  {
   "cell_type": "code",
   "execution_count": 1,
   "metadata": {},
   "outputs": [],
   "source": [
    "import pymongo as pm     # Importing pymongo to manage MongoDB with using Python"
   ]
  },
  {
   "cell_type": "code",
   "execution_count": 2,
   "metadata": {},
   "outputs": [
    {
     "name": "stdout",
     "output_type": "stream",
     "text": [
      "<pymongo.results.InsertOneResult object at 0x000001EAA66B7108>\n"
     ]
    }
   ],
   "source": [
    "\n",
    "server = pm.MongoClient(\"mongodb://localhost:27017\")\n",
    "\n",
    "\n",
    "database = server[\"Deneme\"]  # Server nesnesi üzerinden database bağlantısı oluşturuldu. --- Database connection has been created through the server object.\n",
    "\n",
    "\n",
    "collection = database[\"Products\"]   # Database nesnesi üzerinden collection oluşturuldu. --- The collection was created over the database object.\n",
    "\n",
    "\n",
    "product = {\"name\":\"Renault Fluence\",\"price\":100000,\"yıl\":2011}    \n",
    "\n",
    "\n",
    "collection_veri_ekleme = collection.insert_one(product)    # Collection'a veri ekleme işlemi gerçekleştirildi. --- Adding data to the collection has been done.\n",
    "\n",
    "\n",
    "print(collection_veri_ekleme)"
   ]
  },
  {
   "cell_type": "code",
   "execution_count": 9,
   "metadata": {},
   "outputs": [
    {
     "name": "stdout",
     "output_type": "stream",
     "text": [
      "<class 'pymongo.results.InsertOneResult'>\n"
     ]
    }
   ],
   "source": [
    "print(type(collection_veri_ekleme))"
   ]
  },
  {
   "cell_type": "code",
   "execution_count": 10,
   "metadata": {},
   "outputs": [
    {
     "name": "stdout",
     "output_type": "stream",
     "text": [
      "6077c62701e07be9eee5dd3b\n"
     ]
    }
   ],
   "source": [
    "print(collection_veri_ekleme.inserted_id)    # Checking data id"
   ]
  },
  {
   "cell_type": "markdown",
   "metadata": {},
   "source": [
    "# --------------------------------------------------------------            \n",
    "\n",
    "### Not: ID numarası verilmez ise otomatik olarak ID atanır.\n",
    "\n",
    "# \n",
    "\n",
    "\n",
    "### Note: If the ID number is not given, the ID is automatically assigned.  \n",
    "\n",
    "# --------------------------------------------------------------"
   ]
  },
  {
   "cell_type": "code",
   "execution_count": 24,
   "metadata": {},
   "outputs": [
    {
     "name": "stdout",
     "output_type": "stream",
     "text": [
      "<bound method Collection.count_documents of Collection(Database(MongoClient(host=['localhost:27017'], document_class=dict, tz_aware=False, connect=True), 'Deneme'), 'Products')>\n"
     ]
    }
   ],
   "source": [
    "\n",
    "\n",
    "## Birden Çok Veri Eklemek İçin / To Add Multiple Data:\n",
    "\n",
    "carlist = [\n",
    "    {\"_id\":2,\"name\":\"Renault Fluence\",\"price\":100000,\"yıl\":2011}, \n",
    "    {\"_id\":3,\"name\":\"Renault Laguna\",\"price\":90000,\"yıl\":2010} ,\n",
    "    {\"_id\":4,\"name\":\"Renault Megane\",\"price\":350500,\"yıl\":2020} ,\n",
    "    {\"_id\":5,\"name\":\"Renault Clio\",\"price\":250750,\"yıl\":2021} ,\n",
    "    {\"_id\":6,\"name\":\"Renault Koleos\",\"price\":500000,\"yıl\":2019} ,\n",
    "    {\"_id\":7,\"name\":\"Renault Kangoo\",\"price\":120000,\"yıl\":2011} \n",
    "    \n",
    "]\n",
    "\n",
    "\n",
    "\n",
    "collection_veri_ekleme = collection.insert_many(carlist)   \n",
    "\n",
    "# Birden çok veri ekleneceği için insert_many kullanılır.  \n",
    "\n",
    "# Insert_many is used because more than one data will be added.\n",
    "\n",
    "\n",
    "print(collection.count_documents)"
   ]
  },
  {
   "cell_type": "code",
   "execution_count": 20,
   "metadata": {},
   "outputs": [
    {
     "name": "stdout",
     "output_type": "stream",
     "text": [
      "[ObjectId('6077c7b701e07be9eee5dd5a'), ObjectId('6077c7b701e07be9eee5dd5b'), ObjectId('6077c7b701e07be9eee5dd5c'), ObjectId('6077c7b701e07be9eee5dd5d'), ObjectId('6077c7b701e07be9eee5dd5e'), ObjectId('6077c7b701e07be9eee5dd5f')]\n"
     ]
    }
   ],
   "source": [
    "\n",
    "\n",
    "print(collection_veri_ekleme.inserted_ids)    \n",
    "\n",
    "\n",
    "# Eklenen her bir verinin \"ID\" numarası bulunur.\n",
    "\n",
    "# Each added data has an \"ID\" number.\n",
    "\n"
   ]
  },
  {
   "cell_type": "code",
   "execution_count": 25,
   "metadata": {},
   "outputs": [
    {
     "name": "stdout",
     "output_type": "stream",
     "text": [
      "<bound method Collection.count_documents of Collection(Database(MongoClient(host=['localhost:27017'], document_class=dict, tz_aware=False, connect=True), 'Deneme'), 'Products')>\n"
     ]
    }
   ],
   "source": [
    "\n",
    "\n",
    "\n",
    "carlist = [\n",
    "    {\"name\":\"Renault Fluence\",\"price\":100000,\"yıl\":2011,\"description\":\"Aile Arabası\"}, \n",
    "    {\"name\":\"Skoda Scala\",\"price\":270000,\"yıl\":2021,\"Araç Tipi\":\"Hatchback\"}, \n",
    "\n",
    "\n",
    "    \n",
    "]\n",
    "\n",
    "\n",
    "\n",
    "collection_veri_ekleme = collection.insert_many(carlist)   \n",
    "\n",
    "# Birden çok veri ekleneceği için insert_many kullanılır.\n",
    "\n",
    "# Insert_many is used because more than one data will be added.\n",
    "\n",
    "print(collection.count_documents)\n"
   ]
  },
  {
   "cell_type": "markdown",
   "metadata": {},
   "source": [
    "# "
   ]
  },
  {
   "cell_type": "markdown",
   "metadata": {},
   "source": [
    "\n",
    "## Military Inventory Database Example --- (Askeri Envanter Veritabanı Örneği)\n"
   ]
  },
  {
   "cell_type": "code",
   "execution_count": 8,
   "metadata": {},
   "outputs": [],
   "source": [
    "\n",
    "\n",
    "server = pm.MongoClient(\"mongodb://localhost:27017\")\n",
    "\n",
    "db = server[\"Askeri_Envanter\"]  # Creating database\n",
    "\n",
    "\n",
    "tank_collection = db[\"Tank\"]  \n",
    "\n",
    "\n",
    "# MongoDB içerisindeki collection, SQL içerisindeki table mantığı ile aynıdır.\n",
    "\n",
    "# The collection in MongoDB is the same as the table logic in SQL.\n",
    "\n"
   ]
  },
  {
   "cell_type": "code",
   "execution_count": 9,
   "metadata": {},
   "outputs": [
    {
     "name": "stdout",
     "output_type": "stream",
     "text": [
      "<bound method Collection.count_documents of Collection(Database(MongoClient(host=['localhost:27017'], document_class=dict, tz_aware=False, connect=True), 'Askeri_Envanter'), 'Tank')>\n"
     ]
    }
   ],
   "source": [
    "\n",
    "\n",
    "veriler = [{\"Tank İsmi\":\"Leopard 2\",\"Envanter Griş Tarihi\":1980,\"Tank Sayısı\":270},  # Eklenecek Veriler\n",
    "          {\"Tank İsmi\":\"M60-T\",\"Envanter Griş Tarihi\":1960,\"Tank Sayısı\":450}]       # Data to add\n",
    "\n",
    "\n",
    "\n",
    "veri_ekleme = tank_collection.insert_many(veriler)\n",
    "\n",
    "print(tank_collection.count_documents)\n",
    "\n",
    "\n",
    "# MongoDB içerisindeki documents, SQL içerisindeki rows mantığı ile aynıdır.\n",
    "\n",
    "# Documents in MongoDB are the same as rows logic in SQL.\n"
   ]
  },
  {
   "cell_type": "code",
   "execution_count": null,
   "metadata": {},
   "outputs": [],
   "source": []
  }
 ],
 "metadata": {
  "kernelspec": {
   "display_name": "Python 3",
   "language": "python",
   "name": "python3"
  },
  "language_info": {
   "codemirror_mode": {
    "name": "ipython",
    "version": 3
   },
   "file_extension": ".py",
   "mimetype": "text/x-python",
   "name": "python",
   "nbconvert_exporter": "python",
   "pygments_lexer": "ipython3",
   "version": "3.8.8"
  }
 },
 "nbformat": 4,
 "nbformat_minor": 4
}
