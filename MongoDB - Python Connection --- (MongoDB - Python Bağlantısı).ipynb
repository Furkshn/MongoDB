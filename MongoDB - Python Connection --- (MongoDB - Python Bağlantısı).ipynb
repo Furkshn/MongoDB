{
 "cells": [
  {
   "cell_type": "markdown",
   "metadata": {},
   "source": [
    "# \n",
    "# MongoDB - Python Connection --- (MongoDB - Python Bağlantısı)"
   ]
  },
  {
   "cell_type": "code",
   "execution_count": 1,
   "metadata": {},
   "outputs": [
    {
     "name": "stdout",
     "output_type": "stream",
     "text": [
      "Collecting package metadata (current_repodata.json): ...working... done\n",
      "Solving environment: ...working... done\n",
      "\n",
      "## Package Plan ##\n",
      "\n",
      "  environment location: C:\\Users\\Furkan\\Anaconda3\n",
      "\n",
      "  added / updated specs:\n",
      "    - pymongo\n",
      "\n",
      "\n",
      "The following packages will be downloaded:\n",
      "\n",
      "    package                    |            build\n",
      "    ---------------------------|-----------------\n",
      "    conda-4.10.1               |   py37haa95532_1         2.9 MB\n",
      "    pymongo-3.11.3             |   py37hd77b12b_0         1.3 MB\n",
      "    ------------------------------------------------------------\n",
      "                                           Total:         4.1 MB\n",
      "\n",
      "The following NEW packages will be INSTALLED:\n",
      "\n",
      "  pymongo            pkgs/main/win-64::pymongo-3.11.3-py37hd77b12b_0\n",
      "\n",
      "The following packages will be UPDATED:\n",
      "\n",
      "  conda              conda-forge::conda-4.9.2-py37h03978a9~ --> pkgs/main::conda-4.10.1-py37haa95532_1\n",
      "\n",
      "\n",
      "\n",
      "Downloading and Extracting Packages\n",
      "\n",
      "conda-4.10.1         | 2.9 MB    |            |   0% \n",
      "conda-4.10.1         | 2.9 MB    |            |   1% \n",
      "conda-4.10.1         | 2.9 MB    | 4          |   4% \n",
      "conda-4.10.1         | 2.9 MB    | #4         |  15% \n",
      "conda-4.10.1         | 2.9 MB    | ##8        |  29% \n",
      "conda-4.10.1         | 2.9 MB    | #####9     |  60% \n",
      "conda-4.10.1         | 2.9 MB    | #########1 |  91% \n",
      "conda-4.10.1         | 2.9 MB    | ########## | 100% \n",
      "\n",
      "pymongo-3.11.3       | 1.3 MB    |            |   0% \n",
      "pymongo-3.11.3       | 1.3 MB    | 1          |   1% \n",
      "pymongo-3.11.3       | 1.3 MB    | #3         |  14% \n",
      "pymongo-3.11.3       | 1.3 MB    | ###8       |  39% \n",
      "pymongo-3.11.3       | 1.3 MB    | ########3  |  83% \n",
      "pymongo-3.11.3       | 1.3 MB    | ########## | 100% \n",
      "Preparing transaction: ...working... done\n",
      "Verifying transaction: ...working... done\n",
      "Executing transaction: ...working... done\n",
      "\n",
      "Note: you may need to restart the kernel to use updated packages.\n"
     ]
    }
   ],
   "source": [
    "\n",
    "conda install pymongo     # Installing MongoDB for use with Python in Anaconda\n"
   ]
  },
  {
   "cell_type": "code",
   "execution_count": 4,
   "metadata": {},
   "outputs": [
    {
     "name": "stdout",
     "output_type": "stream",
     "text": [
      "\n",
      "Note: you may need to restart the kernel to use updated packages.\n"
     ]
    },
    {
     "name": "stderr",
     "output_type": "stream",
     "text": [
      "\n",
      "CondaValueError: invalid package specification: #\n",
      "\n"
     ]
    }
   ],
   "source": [
    "conda install pymongo[srv]        # To download to Anaconda\n",
    "\n",
    "# Uzaktaki Veritabanına Bağlanmak İçin Gerekli Olan Kütüphane\n",
    "\n",
    "# Library Required to Connect to Remote Database"
   ]
  },
  {
   "cell_type": "code",
   "execution_count": 2,
   "metadata": {},
   "outputs": [
    {
     "name": "stdout",
     "output_type": "stream",
     "text": [
      "Requirement already satisfied: pymongo in c:\\users\\furkan\\anaconda3\\lib\\site-packages (3.11.3)\n",
      "Note: you may need to restart the kernel to use updated packages.\n"
     ]
    }
   ],
   "source": [
    "pip install pymongo"
   ]
  },
  {
   "cell_type": "code",
   "execution_count": 1,
   "metadata": {},
   "outputs": [],
   "source": [
    "import pymongo"
   ]
  },
  {
   "cell_type": "code",
   "execution_count": 2,
   "metadata": {},
   "outputs": [],
   "source": [
    "client = pymongo.MongoClient(\"mongodb://localhost:27017\")   # Server Bağlantsı --- Server Connection\n",
    "\n",
    "database = client[\"Deneme\"]    # Database ismi yok ise oluşturur. --- If the database name does not exist, it creates it.\n",
    "\n",
    "\n"
   ]
  },
  {
   "cell_type": "code",
   "execution_count": 3,
   "metadata": {},
   "outputs": [
    {
     "name": "stdout",
     "output_type": "stream",
     "text": [
      "['Deneme', 'admin', 'config', 'local']\n"
     ]
    }
   ],
   "source": [
    "\n",
    "print(client.list_database_names())   # Names of databases\n"
   ]
  },
  {
   "cell_type": "code",
   "execution_count": null,
   "metadata": {},
   "outputs": [],
   "source": []
  }
 ],
 "metadata": {
  "kernelspec": {
   "display_name": "Python 3",
   "language": "python",
   "name": "python3"
  },
  "language_info": {
   "codemirror_mode": {
    "name": "ipython",
    "version": 3
   },
   "file_extension": ".py",
   "mimetype": "text/x-python",
   "name": "python",
   "nbconvert_exporter": "python",
   "pygments_lexer": "ipython3",
   "version": "3.8.8"
  }
 },
 "nbformat": 4,
 "nbformat_minor": 4
}
